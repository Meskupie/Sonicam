{
 "cells": [
  {
   "cell_type": "markdown",
   "metadata": {},
   "source": [
    "# Architecture\n",
    "\n",
    "#### face_detector\n",
    "- requests the most recently captured frame when it is ready to process (previous process is complete)\n",
    "- has latency (100ms)\n",
    "- 5hz\n",
    "\n",
    "#### pose_detector\n",
    "- requests the most recently captured frame at slow fixed rate\n",
    "- has latency (200ms)\n",
    "- 1hz\n",
    "\n",
    "#### face_recognition\n",
    "- Requested when poor coresponces need additional data\n",
    "- has latency (~ms)\n",
    "\n",
    "#### correspondence\n",
    "- \n",
    "\n",
    "#### kalman_filter\n",
    "- Run prediction update when a new frame comes in from the FrameServer\n",
    "- Maintain a buffer of preditions and uncertainty since the last measurement update\n",
    "    - Fixed length buffer of say ~5s of measurements (150 slots)\n",
    "    - If the buffer runs out, drop the tracked object\n",
    "- When new data comes in, current predition path is overwriten by running back through the buffer and running a measurement update on the data from the past.\n",
    "- Itterate prediction updates across stored times from the previous buffer up to the current frame accounting for latency\n"
   ]
  },
  {
   "cell_type": "markdown",
   "metadata": {},
   "source": [
    "## Kalman Filter Math\n",
    "\n",
    "![alt text](notebook_files/kalman_functions.png \"Title\")\n",
    "\n",
    "a = x, b = x', c = y, d = y', e = d, f = d'\n",
    "\n",
    "- derivative of b*t+tan(atan(a/e)+w)*e+a*cos(-r)-c*sin(-r)-a with respect to x\n",
    "- d/da = -1 + cos(r) + 1/((1 + a^2/e^2) cos^2(w + tan^(-1)(a/e)))\n",
    "- d/db = dt\n",
    "- d/dc = sin(r)\n",
    "- d/dd = 0\n",
    "- d/de = -(a e)/((a^2 + e^2) cos^2(w + tan^(-1)(a/e))) + sin(w + tan^(-1)(a/e))/cos(w + tan^(-1)(a/e))\n",
    "- d/df = 0\n",
    "\n",
    "\n",
    "- derivative of d*t+tan(atan(c/e)+p)*e+a*cos(-r)-c*sin(-r)-c with respect to x\n",
    "- d/da = cos(r)\n",
    "- d/db = 0\n",
    "- d/dc = -1 + sin(r) + 1/((1 + c^2/e^2) cos^2(p + tan^(-1)(c/e)))\n",
    "- d/dd = dt\n",
    "- d/de = -(c e)/((c^2 + e^2) cos^2(p + tan^(-1)(c/e))) + sin(p + tan^(-1)(c/e))/cos(p + tan^(-1)(c/e))\n",
    "- d/df = 0\n"
   ]
  },
  {
   "cell_type": "code",
   "execution_count": 1,
   "metadata": {
    "scrolled": false
   },
   "outputs": [],
   "source": [
    "%load_ext autoreload\n",
    "%autoreload\n",
    "\n",
    "%matplotlib notebook\n",
    "\n",
    "import matplotlib.pyplot as plt \n",
    "from matplotlib.collections import PatchCollection\n",
    "from matplotlib.patches import Rectangle\n",
    "\n",
    "fig = plt.figure(figsize=(8,4.5)) #(6.4, 3.6)) #(16x9)/2.5\n",
    "ax = fig.add_subplot(111)\n",
    "plt.ion()\n",
    "\n",
    "fig.show()"
   ]
  },
  {
   "cell_type": "code",
   "execution_count": null,
   "metadata": {},
   "outputs": [],
   "source": [
    "import time\n",
    "import math\n",
    "import numpy as np\n",
    "\n",
    "import multiprocessing as mp\n",
    "\n",
    "from graphics import Graphics\n",
    "from measurement import MeasGenerator\n",
    "\n",
    "class FakeFrameDriver(mp.Process):\n",
    "    def __init__(self,,settings):\n",
    "        super(FakeFrameDriver,self).__init__()\n",
    "        self.period = 0.05\n",
    "        \n",
    "        self.meas = MeasGenerator(settings['data'])\n",
    "        self.start()\n",
    "        \n",
    "    def run(self):\n",
    "        while ((time.time()-param_time_start) < 15):\n",
    "            time_begin = time.time()\n",
    "            data = self.meas.getData(time_begin-time_start)\n",
    "            \n",
    "            time.sleep(max(0,self.period-(time.time()-time_begin)))\n",
    "\n",
    "\n",
    "class FaceDetector(mp.Process):\n",
    "    def __init__(self,result_queue_):\n",
    "        super(FaceDetector,self).__init__()\n",
    "        self.result_queue = result_queue_\n",
    "\n",
    "\n",
    "class FaceTracker():\n",
    "    def __init__(self,x_start=np.array([0,0,0,0,0,0])):\n",
    "        buffer_length = 200\n",
    "        frame_shape = (1080,1920)\n",
    "        aov = math.radians(72)\n",
    "        \n",
    "        self.x_buffer = np.zeros(6,buffer_length)\n",
    "        self.u_buffer = np.zeros(3,buffer_length)\n",
    "        \n",
    "        self.i_pre = 0\n",
    "        self.i_cur = 1\n",
    "        self.x_buffer[:,self.i_pre] = x_start\n",
    "        \n",
    "        self.fov_lx = (frame_shape[1]/(2*math.tan(aov/2)))\n",
    "        self.fov_ly = (frame_shape[0]/(2*math.tan(aov/2)))\n",
    "                 \n",
    "    def calculateG(self):\n",
    "        # Pre-calculate various co-efficients\n",
    "        x_0_2 = self.x_buffer[0,self.i_pre]**2\n",
    "        x_2_2 = self.x_buffer[2,self.i_pre]**2\n",
    "        x_4_2 = self.x_buffer[4,self.i_pre]**2\n",
    "        r_0_i = self.u_buffer[2,self.i_cur]+math.atan(self.x_buffer[0,self.i_pre]/self.x_buffer[4,self.i_pre])\n",
    "        r_2_i = self.u_buffer[1,self.i_cur]+math.atan(self.x_buffer[2,self.i_pre]/self.x_buffer[4,self.i_pre])\n",
    "        \n",
    "        # Build the matrix\n",
    "        G = np.zeros(6,6)\n",
    "        G[0,0] = -1+math.cos(u_buffer[0,self.i_cur])+(1/((1+(x_0_2/x_4_2))*(math.cos(r_0_i)**2)))\n",
    "        G[0,1] = self.dt\n",
    "        G[0,2] = math.sin(u_buffer[0,self.i_cur])\n",
    "        G[0,4] = -((self.x_buffer[0,self.i_pre]*self.x_buffer[4,self.i_pre])/((x_0_2+x_4_2)*cos(r_0_i)**2))+(sin(r_0_i)/cos(r_0_i))\n",
    "        G[1,1] = 1\n",
    "        G[2,0] = math.cos(u_buffer[0,self.i_cur])\n",
    "        G[2,2] = -1+sin(u_buffer[0,self.i_cur])+(1/((1+(x_2_2/x_4_2))*(math.cos(r_2_i)**2)))\n",
    "        G[2,3] = self.dt\n",
    "        G[2,4] = -((self.x_buffer[2,self.i_pre]*self.x_buffer[4,self.i_pre])/((x_2_2+x_4_2)*cos(r_2_i)**2))+(sin(r_2_i)/cos(r_2_i))\n",
    "        G[3,3] = 1\n",
    "        G[4,4] = 1\n",
    "        G[4,5] = self.dt\n",
    "        G[5,5] = 1\n",
    "        return G\n",
    "        \n",
    "    def calculateH(self):\n",
    "        # Pre-compute\n",
    "        x_4_2 = self.x_buffer[4,self.i_cur]**2\n",
    "        \n",
    "        # Build the matrix\n",
    "        H = np.zeros(6,3)\n",
    "        H[0,0] = self.fov_lx/self.x_buffer[4,self.i_cur]\n",
    "        H[4,0] = self.fov_lx*self.x_buffer[0,self.i_cur]/x_4_2\n",
    "        H[2,1] = self.fov_ly/self.x_buffer[4,self.i_cur]\n",
    "        H[4,1] = self.fov_ly*self.x_buffer[2,self.i_cur]/x_4_2\n",
    "        H[4,2] = 1\n",
    "        return H\n",
    "    \n",
    "    def motionModel(self):\n",
    "        self.x_buffer[0,self.i_cur] = self.x_buffer[1,self.i_pre]*self.dt+math.tan(math.atan(self.x_buffer[0,self.i_pre]/self.x_buffer[4,self.i_pre])+u_buffer[2,self.i_cur])*self.x_buffer[4,self.i_pre]+self.x_buffer[0,self.i_pre]*math.cos(-self.u_buffer[0,self.i_cur])-self.x_buffer[2,self.i_pre]*math.sin(-self.u_buffer[0,self.i_cur])-self.x_buffer[0,self.i_pre]\n",
    "        self.x_buffer[1,self.i_cur] = self.x_buffer[1,self.i_pre]\n",
    "        self.x_buffer[2,self.i_cur] = self.x_buffer[3,self.i_pre]*self.dt+math.tan(math.atan(self.x_buffer[2,self.i_pre]/self.x_buffer[4,self.i_pre])+u_buffer[1,self.i_cur])*self.x_buffer[4,self.i_pre]+self.x_buffer[0,self.i_pre]*math.sin(-self.u_buffer[0,self.i_cur])+self.x_buffer[2,self.i_pre]*math.cos(-self.u_buffer[0,self.i_cur])-self.x_buffer[2,self.i_pre]\n",
    "        self.x_buffer[3,self.i_cur] = self.x_buffer[2,self.i_pre]\n",
    "        self.x_buffer[4,self.i_cur] = self.x_buffer[5,self.i_pre]*self.dt+self.x_buffer[4,self.i_pre]\n",
    "        self.x_buffer[5,self.i_cur] = self.x_buffer[5,self.i_pre]\n",
    "        \n",
    "    def estimateMeasurement(self):\n",
    "        meas = np.zeros(3)\n",
    "        meas[0] = (self.x_buffer[0,self.i_cur]/self.x_buffer[4,self.i_cur])*self.fov_lx\n",
    "        meas[1] = (self.x_buffer[2,self.i_cur]/self.x_buffer[4,self.i_cur])*self.fov_ly\n",
    "        meas[2] =  self.x_buffer[4,self.i_cur]\n",
    "        return meas\n",
    "        "
   ]
  },
  {
   "cell_type": "code",
   "execution_count": null,
   "metadata": {},
   "outputs": [],
   "source": [
    "param_time_start = time.time()\n",
    "\n",
    "# Global Variables\n",
    "generator_settings = {'start':0,'end':20,'data':[\\\n",
    "    {'id':0,'type':'circle','position':(500,500,400),'depth':(100,100,70,70),'speed':100,'start':0,'end':60},\\\n",
    "    {'id':1,'type':'circle','position':(600,600,350),'depth':(60,60,40,40),'speed':200,'start':5,'end':15},\n",
    "    {'id':2,'type':'line','position':(1600,150,1600,800),'depth':(200,150),'speed':400,'start':0,'end':30},\n",
    "    {'id':3,'type':'point','position':(1500,800),'depth':(60),'start':0,'end':60}]}    \n",
    "    \n",
    "\n",
    "graf = Graphics(fig,ax)\n",
    "\n",
    "\n",
    "graf.clear()\n",
    "graf.add_measurement(meas.getData(time.time()-time_start))\n",
    "graf.draw()"
   ]
  },
  {
   "cell_type": "code",
   "execution_count": 12,
   "metadata": {},
   "outputs": [
    {
     "name": "stdout",
     "output_type": "stream",
     "text": [
      "[[0. 0. 0. 0. 0. 0. 0. 0. 0. 0.]\n",
      " [0. 0. 0. 0. 0. 0. 0. 0. 0. 0.]\n",
      " [0. 0. 0. 0. 0. 0. 0. 0. 0. 0.]\n",
      " [0. 0. 0. 0. 0. 0. 0. 0. 0. 0.]\n",
      " [0. 0. 0. 0. 0. 0. 0. 0. 0. 0.]\n",
      " [0. 0. 0. 0. 0. 0. 0. 0. 0. 0.]]\n",
      "[[1. 0. 0. 0. 0. 0. 0. 0. 0. 0.]\n",
      " [2. 0. 0. 0. 0. 0. 0. 0. 0. 0.]\n",
      " [3. 0. 0. 0. 0. 0. 0. 0. 0. 0.]\n",
      " [4. 0. 0. 0. 0. 0. 0. 0. 0. 0.]\n",
      " [5. 0. 0. 0. 0. 0. 0. 0. 0. 0.]\n",
      " [6. 0. 0. 0. 0. 0. 0. 0. 0. 0.]]\n"
     ]
    }
   ],
   "source": [
    "import numpy as np\n",
    "\n",
    "test = np.zeros((6,10))\n",
    "print(test)\n",
    "\n",
    "test2 = np.array([1,2,3,4,5,6])\n",
    "\n",
    "test[:,0] = test2\n",
    "print(test)"
   ]
  },
  {
   "cell_type": "markdown",
   "metadata": {},
   "source": [
    "# Assignment"
   ]
  },
  {
   "cell_type": "code",
   "execution_count": 110,
   "metadata": {},
   "outputs": [
    {
     "name": "stdout",
     "output_type": "stream",
     "text": [
      "[[  0.75 100.   100.     0.5    1.   100.  ]\n",
      " [  0.25   1.     0.75 100.   100.     0.25]\n",
      " [  0.75   0.5    0.25 100.   100.     0.25]\n",
      " [100.     0.5    0.75 100.   100.   100.  ]\n",
      " [100.   100.   100.   100.   100.   100.  ]\n",
      " [ -1.    -1.    -1.    -1.    -1.    -1.  ]]\n",
      "[0 1 2 3 4 5] [3 0 2 1 4 5]\n",
      "[1, 3, 2, 0, None, None]\n",
      "[1.75, 3, 2.75, 0.5, 0, 2.25]\n"
     ]
    },
    {
     "data": {
      "image/png": "[encoded data removed]",
      "text/plain": [
       "<Figure size 432x288 with 1 Axes>"
      ]
     },
     "metadata": {
      "needs_background": "light"
     },
     "output_type": "display_data"
    }
   ],
   "source": [
    "param_target_search_treshold = 1.25\n",
    "\n",
    "import matplotlib.pyplot as plt\n",
    "import numpy as np\n",
    "from scipy.optimize import linear_sum_assignment\n",
    "\n",
    "tracks  = [1,2,2.5,3.5,5]\n",
    "measure = [1.75,3,2.75,0.5,0,2.25]\n",
    "\n",
    "# plot for visualization\n",
    "end = np.max(np.concatenate((tracks,measure)))+1\n",
    "start = np.min(np.concatenate((tracks,measure)))-1\n",
    "plt.plot([start,end],[0,0],'-k')\n",
    "plt.plot(tracks,np.ones(len(tracks))*0.1,'og')\n",
    "plt.plot(measure,np.ones(len(measure))*-0.1,'or')\n",
    "plt.ylim(-1,1)\n",
    "\n",
    "func = lambda x: np.linalg.norm(x[0]-x[1])\n",
    "\n",
    "# build cost matrix\n",
    "max_dim = max(len(tracks),len(measure))\n",
    "min_dim = min(len(tracks),len(measure))\n",
    "\n",
    "measure_link = [None]*len(measure)\n",
    "if min_dim > 0:\n",
    "    cost = -np.ones((max_dim,max_dim)) # [i,j]:(track,measure)\n",
    "    for i,t in enumerate(tracks):\n",
    "        for j,m in enumerate(measure):\n",
    "            dist = func((t,m))#np.linalg.norm(t-m)\n",
    "            if dist < param_target_search_treshold:\n",
    "                cost[i,j] = dist\n",
    "            else:\n",
    "                cost[i,j] = 100                \n",
    "    t_link,m_link = linear_sum_assignment(cost)\n",
    "    print(cost)\n",
    "    print(t_link,m_link)\n",
    "\n",
    "    for i in range(max_dim):\n",
    "        if m_link[i] < len(measure):\n",
    "            cost_link = cost[t_link[i],m_link[i]]\n",
    "            if cost_link >= 0 and cost_link < param_target_search_treshold:\n",
    "                measure_link[m_link[i]] = t_link[i]\n",
    "                plt.plot([measure[m_link[i]],tracks[t_link[i]]],[-0.1,0.1],'-b')\n",
    "            else: # negative cost from filler node (if cost_link < 0), inf cost from invalid connection\n",
    "                plt.plot([measure[m_link[i]],measure[m_link[i]]],[-0.1,0.1],'-b')\n",
    "                plt.plot(measure[m_link[i]],0.1,'om')\n",
    "else:\n",
    "    if len(tracks) == 0:\n",
    "        for i in range(len(measure)):\n",
    "            plt.plot([measure[i],measure[i]],[-0.1,0.1],'-b')\n",
    "            plt.plot(measure[i],0.1,'om')\n",
    "    else:\n",
    "        # No measurements\n",
    "        pass\n",
    "\n",
    "print(measure_link)\n",
    "print(measure)"
   ]
  },
  {
   "cell_type": "code",
   "execution_count": 4,
   "metadata": {},
   "outputs": [
    {
     "data": {
      "text/plain": [
       "(array([0, 1]), array([0, 1]))"
      ]
     },
     "execution_count": 4,
     "metadata": {},
     "output_type": "execute_result"
    }
   ],
   "source": [
    "from scipy.optimize import linear_sum_assignment\n",
    "import numpy as np\n",
    "\n",
    "A = [10,-40,-60]\n",
    "B = [11,-45]\n",
    "\n",
    "C = np.zeros((len(A),len(B)))\n",
    "for i,a in enumerate(A):\n",
    "    for j,b in enumerate(B):\n",
    "        C[i,j] = abs(a-b)\n",
    "\n",
    "linear_sum_assignment(C)\n",
    "        "
   ]
  },
  {
   "cell_type": "code",
   "execution_count": 116,
   "metadata": {},
   "outputs": [
    {
     "name": "stdout",
     "output_type": "stream",
     "text": [
      "[1, 2, 4, 5]\n"
     ]
    }
   ],
   "source": [
    "a = [1,2,3,4,5]\n",
    "b = [0,1,3,4]\n",
    "\n",
    "a = [a[i] for i in b]\n",
    "print(a)"
   ]
  },
  {
   "cell_type": "code",
   "execution_count": 121,
   "metadata": {},
   "outputs": [
    {
     "data": {
      "text/plain": [
       "array([1, 2, 3])"
      ]
     },
     "execution_count": 121,
     "metadata": {},
     "output_type": "execute_result"
    }
   ],
   "source": [
    "dist_func_lam =  lambda x: np.linalg.norm(x[0]-x[1])\n",
    "\n",
    "dist_func_lam((np.array([2,2,2]),np.array([1,1,1])))\n",
    "\n",
    "np.abs(np.array([1,2,3]))"
   ]
  },
  {
   "cell_type": "code",
   "execution_count": 125,
   "metadata": {},
   "outputs": [
    {
     "name": "stdout",
     "output_type": "stream",
     "text": [
      "12\n",
      "[0. 0. 0. 0. 0. 0. 0. 0. 0. 0. 0. 0. 0. 0. 0. 0. 0. 0. 0. 0. 0. 0. 0. 0.\n",
      " 0. 0. 0. 0. 0. 0. 0. 0. 0. 0. 0. 0. 0. 0. 0. 0. 0. 0. 0. 0. 0. 0. 0. 0.\n",
      " 0. 0. 0. 0. 0. 0. 0. 0. 0. 0. 0. 0. 0. 0. 0. 0. 0. 0. 0. 0. 0. 0. 0. 0.\n",
      " 0. 0. 0. 0. 0. 0. 0. 0. 0. 0. 0. 0. 0. 0. 0. 0. 0. 0. 0. 0. 0. 0. 0. 0.\n",
      " 0. 0. 0. 0.]\n"
     ]
    }
   ],
   "source": [
    "import time\n",
    "\n",
    "a = np.zeros(100)\n",
    "\n",
    "for i in range(len(a)):\n",
    "    a[i] = time.time()\n",
    "    time.sleep(0.025)\n",
    "    \n",
    "b = a[12]\n",
    "\n",
    "print(np.argmin(np.abs(a-b)))\n",
    "\n",
    "print(np.zeros(100))"
   ]
  }
 ],
 "metadata": {
  "kernelspec": {
   "display_name": "Python 3 (fydp)",
   "language": "python",
   "name": "fydp"
  },
  "language_info": {
   "codemirror_mode": {
    "name": "ipython",
    "version": 3
   },
   "file_extension": ".py",
   "mimetype": "text/x-python",
   "name": "python",
   "nbconvert_exporter": "python",
   "pygments_lexer": "ipython3",
   "version": "3.5.3"
  }
 },
 "nbformat": 4,
 "nbformat_minor": 2
}
