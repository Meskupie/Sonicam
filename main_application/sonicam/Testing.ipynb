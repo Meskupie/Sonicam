{
 "cells": [
  {
   "cell_type": "code",
   "execution_count": 13,
   "metadata": {},
   "outputs": [
    {
     "name": "stdout",
     "output_type": "stream",
     "text": [
      "0.021574568748474122\n",
      "0.023363327980041503\n",
      "1101812\n"
     ]
    }
   ],
   "source": [
    "import time\n",
    "import cv2\n",
    "import base64\n",
    "import numpy as np\n",
    "\n",
    "cap = cv2.VideoCapture('../data/sample_video.mp4')\n",
    "_,frame = cap.read()\n",
    "\n",
    "cycles = 10\n",
    "one = np.zeros(cycles)\n",
    "two = np.zeros(cycles)\n",
    "three = np.zeros(cycles)\n",
    "\n",
    "for i in range(cycles):\n",
    "    time_start = time.time()\n",
    "    \n",
    "    ret, frame_encoded = cv2.imencode('.jpg',frame)\n",
    "    one[i] = (time.time()-time_start)\n",
    "    frame_string = base64.b64encode(frame_encoded)\n",
    "    two[i] = (time.time()-time_start)\n",
    "    \n",
    "print(np.mean(one))\n",
    "print(np.mean(two))\n",
    "\n",
    "\n",
    "\n"
   ]
  },
  {
   "cell_type": "code",
   "execution_count": null,
   "metadata": {},
   "outputs": [],
   "source": [
    "cap = cv2.VideoCapture('../data/sample_video.mp4')\n",
    "\n",
    "while cap.isOpened():\n",
    "    _,frame = cap.read()\n",
    "    ret, frame_encoded = cv2.imencode('.jpg',frame)\n",
    "    frame_string = base64.b64encode(frame_encoded)\n",
    "    print(len(frame_string))\n",
    "cap.close()"
   ]
  },
  {
   "cell_type": "code",
   "execution_count": null,
   "metadata": {},
   "outputs": [],
   "source": [
    "hfov = 72\n",
    "\n",
    "aov_d = 102\n",
    "aov_h = 90\n",
    "aov_v = 50\n",
    "\n",
    "shape = (1080,1920)\n",
    "diag_shape = sqrt(shape[0]**2+shape[1]**2)\n",
    "\n",
    "print( (diag_shape/aov_d,shape[]/aov_v) )"
   ]
  },
  {
   "cell_type": "code",
   "execution_count": 21,
   "metadata": {},
   "outputs": [
    {
     "name": "stdout",
     "output_type": "stream",
     "text": [
      "[[[(3, 0)]], [[(5, 1)], [(5, 1), (15, 3)], [(5, 1), (25, 4)], [(5, 1), (15, 3), (45, 5)]], [[(8, 2)]]]\n",
      "Run from base with 5 to 1\n",
      "Run from 1 with 3.0 to 3\n",
      "Run from 1 with 5.0 to 4\n",
      "Run from 3 with 3.0 to 5\n"
     ]
    }
   ],
   "source": [
    "param_pyramid_scalings     = [3 ,5 ,8 ,15,25,45]\n",
    "param_pyramid_scaling_srcs = [-1,-1,-1, 1, 1, 3]\n",
    "param_pyramid_shapes = [(int(round(param_frame_shape[0]/scale)),int(round(param_frame_shape[1]/scale)),param_frame_shape[2]) for scale in param_pyramid_scalings]\n",
    "\n",
    "def createScaleList():\n",
    "    full_output = [[] for _ in range(len(param_pyramid_scalings))]\n",
    "    for i in range(len(param_pyramid_scalings)):\n",
    "        cur = i\n",
    "        chain = []\n",
    "        while True:\n",
    "            chain.append(cur)\n",
    "            cur = param_pyramid_scaling_srcs[cur]\n",
    "            if cur == -1:\n",
    "                break\n",
    "        full_output[chain[-1]].append([(param_pyramid_scalings[i],i) for i in chain[::-1]])\n",
    "    return [x for x in full_output if x != []]\n",
    "\n",
    "def run(scaling):\n",
    "    completed = []\n",
    "    for chain in scaling:\n",
    "        for i,scale in enumerate(chain):\n",
    "            if scale[0] not in completed:\n",
    "                if i == 0:\n",
    "                    print(\"Run from base with\",scale[0],\"to\",scale[1])\n",
    "                else:\n",
    "                    print(\"Run from\",chain[i-1][1],\"with\",scale[0]/chain[i-1][0],\"to\",scale[1])\n",
    "                completed.append(scale[0])\n",
    "            \n",
    "output = createScaleList()\n",
    "\n",
    "print(output)\n",
    "\n",
    "run(output[1])\n",
    "\n",
    "\n"
   ]
  },
  {
   "cell_type": "code",
   "execution_count": 61,
   "metadata": {},
   "outputs": [
    {
     "name": "stdout",
     "output_type": "stream",
     "text": [
      "(640, 360)\n"
     ]
    }
   ],
   "source": [
    "# FrameServer\n",
    "param_frame_shape = (1080,1920,3) # camera data shape\n",
    "\n",
    "param_image_buffer_length = 10 # length of frame buffer\n",
    "\n",
    "param_n_image_workers = 3\n",
    "\n",
    "param_image_buffer_end = 2\n",
    "param_frame_period = 0.0333\n",
    "\n",
    "# FaceDetector\n",
    "param_detector_thresholds = [0.6, 0.7, 0.7]\n",
    "\n",
    "param_pyramid_scalings     = [3 ,5 ,8 ,15,25]\n",
    "param_pyramid_scaling_srcs = [-1,-1,-1, 1, 1]\n",
    "\n",
    "param_pyramid_shapes = [(int(round(param_frame_shape[0]/scale)),int(round(param_frame_shape[1]/scale)),param_frame_shape[2]) for scale in param_pyramid_scalings]\n",
    "\n",
    "print(param_pyramid_shapes[0][0:2][::-1])"
   ]
  },
  {
   "cell_type": "code",
   "execution_count": 34,
   "metadata": {},
   "outputs": [
    {
     "name": "stdout",
     "output_type": "stream",
     "text": [
      "3 (360, 640, 3)\n",
      "5 (216, 384, 3)\n",
      "8 (135, 240, 3)\n",
      "15 (72, 128, 3)\n",
      "25 (43, 77, 3)\n",
      "[[[0]], [[1], [1, 3], [1, 4]], [[2]]]\n",
      "completed 0\n",
      "completed 1\n",
      "completed 3\n",
      "completed 4\n",
      "completed 2\n"
     ]
    }
   ],
   "source": [
    "param_frame_shape = (1080,1920,3)\n",
    "param_pyramid_scalings     = [3 ,5 ,8 ,15,25]\n",
    "param_pyramid_scaling_srcs = [-1,-1,-1, 1, 1]\n",
    "param_pyramid_shapes = [(int(round(param_frame_shape[0]/scale)),int(round(param_frame_shape[1]/scale)),param_frame_shape[2]) for scale in param_pyramid_scalings]\n",
    "\n",
    "def createScaleList():\n",
    "    full_output = [[] for _ in range(len(param_pyramid_scalings))]\n",
    "    for i in range(len(param_pyramid_scalings)):\n",
    "        cur = i\n",
    "        chain = []\n",
    "        while True:\n",
    "            chain.append(cur)\n",
    "            cur = param_pyramid_scaling_srcs[cur]\n",
    "            if cur == -1:\n",
    "                break\n",
    "        full_output[chain[-1]].append(chain[::-1])\n",
    "    return [x for x in full_output if x != []]\n",
    "\n",
    "def run(scaling):\n",
    "    completed = []\n",
    "    for pattern in scaling:\n",
    "        for i,scale_i in enumerate(pattern):\n",
    "            if scale_i not in completed:\n",
    "                if i == 0:\n",
    "                    pass\n",
    "                    #print(\"Run from base to\",param_pyramid_shapes[scale_i],\"store at\",scale_i)\n",
    "                else:\n",
    "                    pass\n",
    "                    #print(\"Run from\",pattern[i-1],\"to\",param_pyramid_shapes[scale_i],\"store at\",scale_i)\n",
    "                print(\"completed\",scale_i)\n",
    "                completed.append(scale_i)\n",
    "            \n",
    "output = createScaleList()\n",
    "\n",
    "for i in range(len(param_pyramid_scalings)):\n",
    "    print(param_pyramid_scalings[i],param_pyramid_shapes[i])\n",
    "\n",
    "print(output)\n",
    "\n",
    "for _ in output:\n",
    "    run(_)\n",
    "\n",
    "\n"
   ]
  },
  {
   "cell_type": "code",
   "execution_count": null,
   "metadata": {},
   "outputs": [],
   "source": []
  }
 ],
 "metadata": {
  "kernelspec": {
   "display_name": "Python 3 (fydp)",
   "language": "python",
   "name": "fydp"
  },
  "language_info": {
   "codemirror_mode": {
    "name": "ipython",
    "version": 3
   },
   "file_extension": ".py",
   "mimetype": "text/x-python",
   "name": "python",
   "nbconvert_exporter": "python",
   "pygments_lexer": "ipython3",
   "version": "3.5.3"
  }
 },
 "nbformat": 4,
 "nbformat_minor": 2
}
